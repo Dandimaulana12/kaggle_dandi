{
  "cells": [
    {
      "metadata": {
        "_uuid": "952c0d8ef6614dadd0aa9c8306c48d55b4ce85f6"
      },
      "cell_type": "markdown",
      "source": "# Intro\n\nData scientists tend to focus on **prediction** because that's where conventional machine learning excels. But real world decision-making involves both prediction and **optimization**.  After predicting what will happen, you decide what to do about it.\n\nOptimization gets less attention than it deserves. So this micro-challenge will test your optimization skills as you write a function to improve how airlines set prices.\n\n![Imgur](https://i.imgur.com/AKrbLMR.jpg)\n\n\n# The Problem\n\nYou recently started Aviato.com, a startup that helps airlines set ticket prices. \n\nAviato's success will depend on a function called `pricing_function`.  This notebook already includes a very simple version of `pricing_function`.  You will modify `pricing_function` to maximize the total revenue collected for all flights in our simulated environment.\n\nFor each flight, `pricing_function` will be run once per (simulated) day to set that day's ticket price. The seats you don't sell today will be available to sell tomorrow, unless the flight leaves that day.\n\nYour `pricing_function` is run for one flight at a time, and it takes following inputs:\n- **Number of days until the flight**\n- **Number of seats they have left to sell**\n- **A variable called `demand_level` that determines how many tickets you can sell at any given price. **\n\nThe quantity you sell at any price is:\n> quantity_sold = demand_level - price\n\nTicket quantities are capped at the number of seats available.\n\nYour function will output the ticket price.\n\nYou learn the `demand_level` for each day at the time you need to make predictions for that day. For all days in the future, you only know `demand_level` will be drawn from the uniform distribution between 100 and 200.  So, for any day in the future, it is equally likely to be each value between 100 and 200.\n\nIn case this is still unclear, some relevant implementation code is shown below.\n\n# The Simulator\nWe will run your pricing function in a simulator to test how well it performs on a range of flight situations.  **Run the following code cell to set up your simulation environment:**"
    },
    {
      "metadata": {
        "trusted": true,
        "_uuid": "29b901e17dc046f84d6502c06b6933c8ae4b6f60"
      },
      "cell_type": "code",
      "source": "import sys\nsys.path.append('../input')\nfrom flight_revenue_simulator import simulate_revenue, score_me\n",
      "execution_count": 1,
      "outputs": []
    },
    {
      "metadata": {
        "_uuid": "a7b28253c46d09898ccc8908de34f38015e99bf4"
      },
      "cell_type": "markdown",
      "source": "In case you want to check your understanding of the simulator logic, here is a simplified version of some of the key logic (leaving out the code that prints your progress). If you feel you understand the description above, you can skip reading this code.\n\n```python\ndef _tickets_sold(p, demand_level, max_qty):\n        quantity_demanded = floor(max(0, p - demand_level))\n        return min(quantity_demanded, max_qty)\n\ndef simulate_revenue(days_left, tickets_left, pricing_function, rev_to_date=0, demand_level_min=100, demand_level_max=200):\n    if (days_left == 0) or (tickets_left == 0):\n        return rev_to_date\n    else:\n        demand_level = uniform(demand_level_min, demand_level_max)\n        p = pricing_function(days_left, tickets_left, demand_level)\n        q = _tickets_sold(demand_level, p, tickets_left)\n        return _total_revenue(days_left = days_left-1, \n                              tickets_left = tickets_left-q, \n                              pricing_function = pricing_function, \n                              rev_to_date = rev_to_date + p * q,\n                              demand_level_min = demand_level_min,\n                              demand_level_max = demand_level_max\n                             )\n```\n\n# Your Code\n\nHere is starter code for the pricing function.  If you use this function, you will sell 10 tickets each day (until you run out of tickets)."
    },
    {
      "metadata": {
        "_cell_guid": "79c7e3d0-c299-4dcb-8224-4455121ee9b0",
        "_uuid": "d629ff2d2480ee46fbb7e2d37f6b5fab8052498a",
        "trusted": true
      },
      "cell_type": "code",
      "source": "def pricing_function(days_left, tickets_left, demand_level):\n    \"\"\"Sample pricing function\"\"\"\n    price = demand_level - 10\n    return price",
      "execution_count": 2,
      "outputs": []
    },
    {
      "metadata": {
        "_uuid": "8dfa22a10e6153f9beab25168b1a1b8acfe4960d"
      },
      "cell_type": "markdown",
      "source": "To see a small example of how your code works, test it with the following function:"
    },
    {
      "metadata": {
        "trusted": true,
        "_uuid": "0faafdf897ee48bfd5e2f3f540c51877101dbcec"
      },
      "cell_type": "code",
      "source": "simulate_revenue(days_left=7, tickets_left=50, pricing_function=pricing_function, verbose=True)",
      "execution_count": 3,
      "outputs": [
        {
          "output_type": "stream",
          "text": "7 days before flight: Started with 50 seats. Demand level: 109. Price set to $99. Sold 10 tickets. Daily revenue is 993. Total revenue-to-date is 993. 40 seats remaining\n6 days before flight: Started with 40 seats. Demand level: 178. Price set to $168. Sold 10 tickets. Daily revenue is 1677. Total revenue-to-date is 2670. 30 seats remaining\n5 days before flight: Started with 30 seats. Demand level: 167. Price set to $157. Sold 10 tickets. Daily revenue is 1574. Total revenue-to-date is 4244. 20 seats remaining\n4 days before flight: Started with 20 seats. Demand level: 123. Price set to $113. Sold 10 tickets. Daily revenue is 1132. Total revenue-to-date is 5376. 10 seats remaining\n3 days before flight: Started with 10 seats. Demand level: 172. Price set to $162. Sold 10 tickets. Daily revenue is 1619. Total revenue-to-date is 6994. 0 seats remaining\nThis flight is booked full.\nTotal Revenue: $6994\n",
          "name": "stdout"
        },
        {
          "output_type": "execute_result",
          "execution_count": 3,
          "data": {
            "text/plain": "6994.409838146537"
          },
          "metadata": {}
        }
      ]
    },
    {
      "metadata": {
        "_uuid": "6cb61f41a2df125249a378413693b16ed145322a"
      },
      "cell_type": "markdown",
      "source": "You can try simulations for a variety of values.\n\nOnce you feel good about your pricing function, run it with the following cell to to see how it performs on a wider range of flights."
    },
    {
      "metadata": {
        "trusted": true
      },
      "cell_type": "code",
      "source": "def pricing_function(days_left, tickets_left, demand_level):\n    \"\"\"My pricing function\"\"\"\n    import math\n    # precomputing useful values\n    tickets_per_day = round(tickets_left / days_left)\n    mean_demand = 150\n    mean_price = mean_demand - tickets_per_day\n    demand_mean_diff = abs(demand_level - mean_demand) / 50\n    \n    # Price for last day and far days\n    if days_left == 1:\n        return demand_level - tickets_left\n    if days_left > 7 and tickets_per_day <= 10:\n        if demand_level < 175:\n            return demand_level\n    \n    # Price for last 7 days\n    if demand_level < mean_demand:\n        factor = math.sqrt(1 - demand_mean_diff)\n    else:\n        factor = (1 + demand_mean_diff) ** 2.5\n    today_seats = factor * tickets_per_day\n    price = demand_level - today_seats    \n    return price\n\nsimulate_revenue(days_left=7, tickets_left=50, pricing_function=pricing_function, verbose=True)",
      "execution_count": 4,
      "outputs": [
        {
          "output_type": "stream",
          "text": "7 days before flight: Started with 50 seats. Demand level: 104. Price set to $102. Sold 1 tickets. Daily revenue is 102. Total revenue-to-date is 102. 49 seats remaining\n6 days before flight: Started with 49 seats. Demand level: 145. Price set to $138. Sold 7 tickets. Daily revenue is 964. Total revenue-to-date is 1066. 42 seats remaining\n5 days before flight: Started with 42 seats. Demand level: 159. Price set to $147. Sold 11 tickets. Daily revenue is 1614. Total revenue-to-date is 2680. 31 seats remaining\n4 days before flight: Started with 31 seats. Demand level: 170. Price set to $152. Sold 18 tickets. Daily revenue is 2729. Total revenue-to-date is 5408. 13 seats remaining\n3 days before flight: Started with 13 seats. Demand level: 100. Price set to $100. Sold 0 tickets. Daily revenue is 0. Total revenue-to-date is 5408. 13 seats remaining\n2 days before flight: Started with 13 seats. Demand level: 141. Price set to $135. Sold 5 tickets. Daily revenue is 677. Total revenue-to-date is 6086. 8 seats remaining\n1 days before flight: Started with 8 seats. Demand level: 191. Price set to $183. Sold 8 tickets. Daily revenue is 1465. Total revenue-to-date is 7551. 0 seats remaining\nThe flight took off today. \nThis flight is booked full.\nTotal Revenue: $7551\n",
          "name": "stdout"
        },
        {
          "output_type": "execute_result",
          "execution_count": 4,
          "data": {
            "text/plain": "7551.258595632313"
          },
          "metadata": {}
        }
      ]
    },
    {
      "metadata": {
        "trusted": true,
        "_uuid": "13850c7c9a8f46098ddc4cca9c326abd378dd257"
      },
      "cell_type": "code",
      "source": "score_me(pricing_function)",
      "execution_count": 5,
      "outputs": [
        {
          "output_type": "stream",
          "text": "Ran 200 flights starting 100 days before flight with 100 tickets. Average revenue: $18246\nRan 200 flights starting 14 days before flight with 50 tickets. Average revenue: $8325\nRan 200 flights starting 2 days before flight with 20 tickets. Average revenue: $2771\nRan 200 flights starting 1 days before flight with 3 tickets. Average revenue: $439\n",
          "name": "stdout"
        },
        {
          "output_type": "display_data",
          "data": {
            "text/plain": "<IPython.core.display.Javascript object>",
            "application/javascript": "parent.postMessage({\"jupyterEvent\": \"custom.exercise_interaction\", \"data\": {\"learnTutorialId\": 117, \"interactionType\": \"check\", \"questionId\": \"Aug31OptimizationChallenge\", \"outcomeType\": \"Pass\", \"valueTowardsCompletion\": 0.7445434264484656, \"failureMessage\": null, \"learnToolsVersion\": \"Testing\"}}, \"*\")"
          },
          "metadata": {}
        },
        {
          "output_type": "stream",
          "text": "Average revenue across all flights is $7445\n",
          "name": "stdout"
        }
      ]
    },
    {
      "metadata": {
        "_uuid": "b2b09199f09d1a25d50c15a1fdedef51f96f01a6"
      },
      "cell_type": "markdown",
      "source": "# Discuss\nWant to discuss your solution or hear what others have done?  There is a [discussion thread](https://www.kaggle.com/general/62469) just for you."
    },
    {
      "metadata": {
        "_uuid": "afed31fbc63a8b9e40958e92cf2cf7742b1d25f4"
      },
      "cell_type": "markdown",
      "source": "---\n*This micro-challenge is from an exercise in an upcoming Optimization course on **[Kaggle Learn](https://www.kaggle.com/Learn?utm_medium=website&utm_source=kaggle.com&utm_campaign=micro+challenge+2018)**.  If you enjoyed this challenge and want to beef up your data science skills, you might enjoy our other courses.*"
    }
  ],
  "metadata": {
    "kernelspec": {
      "display_name": "Python 3",
      "language": "python",
      "name": "python3"
    },
    "language_info": {
      "name": "python",
      "version": "3.6.6",
      "mimetype": "text/x-python",
      "codemirror_mode": {
        "name": "ipython",
        "version": 3
      },
      "pygments_lexer": "ipython3",
      "nbconvert_exporter": "python",
      "file_extension": ".py"
    }
  },
  "nbformat": 4,
  "nbformat_minor": 1
}